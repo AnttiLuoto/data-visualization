{
 "cells": [
  {
   "cell_type": "markdown",
   "source": [
    "# Notebook Usage\n",
    "\n",
    "<ul>\n",
    "<li>Create an intact weekly level timeseries of the prices of products in /data exels\n",
    "<li>This data will be visualized in the frontend react app\n",
    "</ul>\n",
    "\n",
    "#### Processing logic\n",
    "\n",
    "1. Load all excels into a single dataframe\n",
    "2. Create time periods (weeks, months) from start of data to end of data\n",
    "3. For each product, (EAN-koodi) generate the time series\n",
    "* Max price during time period\n",
    "4. Make test visualization before frontend functionality\n",
    "\n",
    "* Consider product grouping, could be useful e.g. if product has only slightly changed\n"
   ],
   "metadata": {
    "collapsed": false
   },
   "id": "354053dc106ce159"
  },
  {
   "cell_type": "code",
   "outputs": [],
   "source": [
    "import os\n",
    "import json\n",
    "import pandas as pd\n",
    "import matplotlib.pyplot as plt"
   ],
   "metadata": {
    "collapsed": false,
    "ExecuteTime": {
     "end_time": "2024-06-14T16:55:33.747576300Z",
     "start_time": "2024-06-14T16:55:33.683238500Z"
    }
   },
   "id": "35192778d4011c82",
   "execution_count": 534
  },
  {
   "cell_type": "markdown",
   "source": [
    "Load data in and do basic processing"
   ],
   "metadata": {
    "collapsed": false
   },
   "id": "c7b7caa4abadd984"
  },
  {
   "cell_type": "code",
   "outputs": [
    {
     "name": "stdout",
     "output_type": "stream",
     "text": [
      "ostotietoraportti_aluoto.xlsx\n",
      "ostotietoraportti_jluoto.xlsx\n"
     ]
    }
   ],
   "source": [
    "# Load in the excels using pandas\n",
    "file_location = \"..\\data\"\n",
    "\n",
    "raw_data = pd.DataFrame()\n",
    "\n",
    "for file_name in os.listdir(file_location):\n",
    "    if file_name[-4:] == 'xlsx':\n",
    "        print(file_name)\n",
    "        df_one_file = pd.read_excel(f\"{file_location}\\{file_name}\", skiprows=8)\n",
    "        df_one_file[\"source\"] = file_name\n",
    "        raw_data = pd.concat([raw_data, df_one_file])\n",
    "    "
   ],
   "metadata": {
    "collapsed": false,
    "ExecuteTime": {
     "end_time": "2024-06-14T16:55:37.885804200Z",
     "start_time": "2024-06-14T16:55:33.759726500Z"
    }
   },
   "id": "592d62ca29bc8edf",
   "execution_count": 535
  },
  {
   "cell_type": "code",
   "outputs": [],
   "source": [
    "raw_data['EAN-KOODI'] = raw_data['EAN-KOODI'].astype(str)\n",
    "raw_data = raw_data[~raw_data['EAN-KOODI'].isin(['200074546781','200088052865'])]"
   ],
   "metadata": {
    "collapsed": false,
    "ExecuteTime": {
     "end_time": "2024-06-14T16:55:37.936265100Z",
     "start_time": "2024-06-14T16:55:37.895355Z"
    }
   },
   "id": "b3c15618a965f76b",
   "execution_count": 536
  },
  {
   "cell_type": "code",
   "outputs": [
    {
     "data": {
      "text/plain": "  PÄIVÄMÄÄRÄ KELLONAIKA      TOIMIPAIKKA  \\\n0 2021-06-30      15:08  PRISMA HYVINKÄÄ   \n1 2021-06-30      15:08  PRISMA HYVINKÄÄ   \n2 2020-01-24      18:12  PRISMA HYVINKÄÄ   \n3 2020-01-24      18:12  PRISMA HYVINKÄÄ   \n4 2020-06-17      16:27   PRISMA MIKKELI   \n\n                                 TUOTERYHMÄ  \\\n0  Mehu- ja juoma-annospakkauks. lämpimästä   \n1  Mehu- ja juoma-annospakkauks. lämpimästä   \n2                            Rakennussarjat   \n3                            Rakennussarjat   \n4                            Rakennussarjat   \n\n                                 TUOTENIMI      EAN-KOODI  \\\n0            10 x Rainbow päärynäjuoma 2dl  6415712500894   \n1  10 x Rainbow vadelma-mansikka juoma 2dl  6415712500887   \n2                    10918 Hinausauto LEGO  5702016618082   \n3     10920 Elsan ja Olafin teekutsut LEGO  5702016618105   \n4              11008 Palikat ja talot LEGO  5702016616590   \n\n   Yksikköhinta € verollinen  Ostetut tuotteet (paino/kpl)  Myyntihinta €  \\\n0                       2.15                           1.0           2.15   \n1                       2.15                           1.0           2.15   \n2                       5.90                           1.0           5.90   \n3                      22.90                           1.0          22.90   \n4                      22.90                           1.0          22.90   \n\n   Alennukset €  OSTOT €                         source  \n0           0.0     2.15  ostotietoraportti_aluoto.xlsx  \n1           0.0     2.15  ostotietoraportti_aluoto.xlsx  \n2           0.0     5.90  ostotietoraportti_aluoto.xlsx  \n3           0.0    22.90  ostotietoraportti_aluoto.xlsx  \n4           0.0    22.90  ostotietoraportti_aluoto.xlsx  ",
      "text/html": "<div>\n<style scoped>\n    .dataframe tbody tr th:only-of-type {\n        vertical-align: middle;\n    }\n\n    .dataframe tbody tr th {\n        vertical-align: top;\n    }\n\n    .dataframe thead th {\n        text-align: right;\n    }\n</style>\n<table border=\"1\" class=\"dataframe\">\n  <thead>\n    <tr style=\"text-align: right;\">\n      <th></th>\n      <th>PÄIVÄMÄÄRÄ</th>\n      <th>KELLONAIKA</th>\n      <th>TOIMIPAIKKA</th>\n      <th>TUOTERYHMÄ</th>\n      <th>TUOTENIMI</th>\n      <th>EAN-KOODI</th>\n      <th>Yksikköhinta € verollinen</th>\n      <th>Ostetut tuotteet (paino/kpl)</th>\n      <th>Myyntihinta €</th>\n      <th>Alennukset €</th>\n      <th>OSTOT €</th>\n      <th>source</th>\n    </tr>\n  </thead>\n  <tbody>\n    <tr>\n      <th>0</th>\n      <td>2021-06-30</td>\n      <td>15:08</td>\n      <td>PRISMA HYVINKÄÄ</td>\n      <td>Mehu- ja juoma-annospakkauks. lämpimästä</td>\n      <td>10 x Rainbow päärynäjuoma 2dl</td>\n      <td>6415712500894</td>\n      <td>2.15</td>\n      <td>1.0</td>\n      <td>2.15</td>\n      <td>0.0</td>\n      <td>2.15</td>\n      <td>ostotietoraportti_aluoto.xlsx</td>\n    </tr>\n    <tr>\n      <th>1</th>\n      <td>2021-06-30</td>\n      <td>15:08</td>\n      <td>PRISMA HYVINKÄÄ</td>\n      <td>Mehu- ja juoma-annospakkauks. lämpimästä</td>\n      <td>10 x Rainbow vadelma-mansikka juoma 2dl</td>\n      <td>6415712500887</td>\n      <td>2.15</td>\n      <td>1.0</td>\n      <td>2.15</td>\n      <td>0.0</td>\n      <td>2.15</td>\n      <td>ostotietoraportti_aluoto.xlsx</td>\n    </tr>\n    <tr>\n      <th>2</th>\n      <td>2020-01-24</td>\n      <td>18:12</td>\n      <td>PRISMA HYVINKÄÄ</td>\n      <td>Rakennussarjat</td>\n      <td>10918 Hinausauto LEGO</td>\n      <td>5702016618082</td>\n      <td>5.90</td>\n      <td>1.0</td>\n      <td>5.90</td>\n      <td>0.0</td>\n      <td>5.90</td>\n      <td>ostotietoraportti_aluoto.xlsx</td>\n    </tr>\n    <tr>\n      <th>3</th>\n      <td>2020-01-24</td>\n      <td>18:12</td>\n      <td>PRISMA HYVINKÄÄ</td>\n      <td>Rakennussarjat</td>\n      <td>10920 Elsan ja Olafin teekutsut LEGO</td>\n      <td>5702016618105</td>\n      <td>22.90</td>\n      <td>1.0</td>\n      <td>22.90</td>\n      <td>0.0</td>\n      <td>22.90</td>\n      <td>ostotietoraportti_aluoto.xlsx</td>\n    </tr>\n    <tr>\n      <th>4</th>\n      <td>2020-06-17</td>\n      <td>16:27</td>\n      <td>PRISMA MIKKELI</td>\n      <td>Rakennussarjat</td>\n      <td>11008 Palikat ja talot LEGO</td>\n      <td>5702016616590</td>\n      <td>22.90</td>\n      <td>1.0</td>\n      <td>22.90</td>\n      <td>0.0</td>\n      <td>22.90</td>\n      <td>ostotietoraportti_aluoto.xlsx</td>\n    </tr>\n  </tbody>\n</table>\n</div>"
     },
     "execution_count": 537,
     "metadata": {},
     "output_type": "execute_result"
    }
   ],
   "source": [
    "raw_data.head()"
   ],
   "metadata": {
    "collapsed": false,
    "ExecuteTime": {
     "end_time": "2024-06-14T16:55:37.962352400Z",
     "start_time": "2024-06-14T16:55:37.927634100Z"
    }
   },
   "id": "408637fb42c9b972",
   "execution_count": 537
  },
  {
   "cell_type": "markdown",
   "source": [
    "Identify top products based on total €\n"
   ],
   "metadata": {
    "collapsed": false
   },
   "id": "e81c4fede8b83826"
  },
  {
   "cell_type": "code",
   "outputs": [
    {
     "data": {
      "text/plain": "        EAN-KOODI   total€                                          TUOTENIMI  \\\n0   6430015538009  3103.22           Fazer Aito 1l ESL Gluteeniton Kaurajuoma   \n1   6414893500167  1463.53             Kotimaista naudan jauheliha 17 % 700 g   \n2   6438348001566  1238.60                       Kotimaista Kaurajuoma ESL 1l   \n3   6407810014397  1188.18  Atria Kanan Ohut Fileeleike Pehmeän Pippurinen...   \n4   7310100703347  1170.85     Semper Fruktmums Persikka 6kk hedelmäsose 110g   \n5   7310100703262  1141.66      Semper Fruktmums Vadelma 6kk hedelmäsose 110g   \n6   6408430039432  1074.79                            Valio Oltermanni® e1 kg   \n7   6413605015210   941.36                 4 x Pepsi Max virvoitusjuoma 2,0 l   \n8   2000503600002   739.38                                   Chiquita-banaani   \n9   7322541090580   726.27  Libero Up&Go housuvaippa koko 6, 13-20 kg, 56 kpl   \n10  6414893501003   605.40  Kotimaista Kanan fileesuikale miedosti suolatt...   \n11  7322541743004   584.99   LIBERO Up&Go housuvaippa koko 6, 54kpl, 13-20 kg   \n12  6409100054243   575.67                       Kevyt linja meetvursti 100 g   \n13  6416961000661   523.60                porlammin vege plus viipaleet 150 g   \n14  6411300000494   498.18     Paulig Juhla Mokka kahvi suodatinjauhatus 500g   \n15  6409100060916   485.28                        HK Popsi® Grillinakki 300 g   \n16  6415712715595   483.29                     Rainbow Kana-tacosalaatti 300g   \n17  6407830037277   444.35      Atria Kanan Ohut Fileeleike Mustapippuri 500g   \n18  6410380097752   437.14                          Oolannin muusiperuna 400g   \n19  6413200330404   420.40                   LOTUS Soft Embo wc-paperi 16 rll   \n20  6430048443011   399.80  3 Kaveria Vegaaninen Suklaa & Pähkinäkinuski j...   \n21  6407830038496   387.69  Jyväbroiler Iso Suikale Broilerin Fileestä Nat...   \n22  6406300009608   384.67               Kivikylän Palvarin Lihapyörykkä 350g   \n23  6414894500210   384.09                     Rainbow miniluumutomaatti 250g   \n24  6409620364501   382.32                      Snellman Kinkkusuikaleet 300g   \n25  6430015538085   380.41  Fazer Aito Kauraruoka 2,5dl gluteeniton kaurav...   \n26  2000604700007   379.41                                       Kurkku Suomi   \n27  6413600015161   377.47                 2 x Pepsi Max virvoitusjuoma 1,5 l   \n28  6416288111125   373.40     TalkMuru aamiaismuro 250 g, Taivalkosken Mylly   \n29  2393064000009   366.57              Rainbow lohifilee 800-1400g vac n10kg   \n30  6415715101388   357.50    Rainbow kirjolohisuikale miedosti suolattu 300g   \n31  6430015538108   351.52  Fazer Aito Vispi 2,5 dl, gluteeniton vispautuv...   \n32  2000522100002   333.58                      Päärynä Conference I Hollanti   \n33  6438207011620   320.17      Keiju Laktoositon kasvirasvalevite 70 % 600 g   \n34  2000631800008   315.25                                   Paprika punainen   \n35  6416710300349   303.68                Filos original halloumi-juusto 200g   \n36  6420256015407   296.16  Jenkki Herra Hakkarainen Mansikka & Päärynä tä...   \n37  6408430337613   294.38     Valio salaattijuusto kuutiot 180 g laktoositon   \n38  6409620010057   293.99                      Snellman Superior kinkku 180g   \n39  6411402202406   289.01          Fazer Puikula Kaura 9kpl 550g, kauraleipä   \n40  2396004000008   286.76            Rainbow Savustettu lohifileepala n 300g   \n41  6414893385535   281.79                Rainbow 175g Mozzarellajuustoraaste   \n42  6408430037001   280.74                            Valio AURA® e170 g pala   \n43  6430104920500   280.71          Apetit Herne-maissi-porkkana pakaste 200g   \n44  6407800010170   271.46  Atria Kanan Minuuttifilee Pehmeän Pippurinen 760g   \n45  6414894500609   260.65        Rainbow vihreä siemenetön viinirypäle 500 g   \n46  2000041000005   244.08                        Appelsiini Navelina Espanja   \n47  8718226440051   232.87                                       Vadelma 125g   \n48  6408430408313   232.44  Valio Oddlygood® kaurapohjainen gurtti 1 kg va...   \n49  6412989528750   229.00             Silvertree kaasugrilli 3 poltinta Trio   \n\n                             TUOTERYHMÄ  \n0                 Kasvipohjaiset juomat  \n1                     Tuore valintaliha  \n2                 Kasvipohjaiset juomat  \n3                     Tuore valintaliha  \n4                           Lastenruoat  \n5                           Lastenruoat  \n6                      Perusjuustopalat  \n7                       Virvoitusjuomat  \n8                              Hedelmät  \n9                          Vauvanvaipat  \n10                    Tuore valintaliha  \n11                         Vauvanvaipat  \n12       Tuoreet lihavalmisteet valinta  \n13               Kasvipohjaiset juustot  \n14            Kahvit ja suodatinpaperit  \n15       Tuoreet lihavalmisteet valinta  \n16                  Valmisruoka valinta  \n17                    Tuore valintaliha  \n18                      Perunapakasteet  \n19                           Wc-paperit  \n20                              Jäätelö  \n21                    Tuore valintaliha  \n22                  Valmisruoka valinta  \n23                          Vihannekset  \n24       Tuoreet lihavalmisteet valinta  \n25  Ruoanv ja leivontatuotteet maitotal  \n26                          Vihannekset  \n27                      Virvoitusjuomat  \n28                      Murot ja myslit  \n29                   Tuore kala valinta  \n30                   Tuore kala valinta  \n31  Ruoanv ja leivontatuotteet maitotal  \n32                             Hedelmät  \n33                     Rasiamargariinit  \n34                          Vihannekset  \n35                         Ruokajuustot  \n36                             Makeiset  \n37                         Ruokajuustot  \n38       Tuoreet lihavalmisteet valinta  \n39                       Vaaleat leivät  \n40               Kalavalmisteet valinta  \n41                         Ruokajuustot  \n42                       Erikoisjuustot  \n43                      Kasvispakasteet  \n44                    Tuore valintaliha  \n45                             Hedelmät  \n46                             Hedelmät  \n47                  Marjat ja raparperi  \n48                             Jogurtti  \n49                              Grillit  ",
      "text/html": "<div>\n<style scoped>\n    .dataframe tbody tr th:only-of-type {\n        vertical-align: middle;\n    }\n\n    .dataframe tbody tr th {\n        vertical-align: top;\n    }\n\n    .dataframe thead th {\n        text-align: right;\n    }\n</style>\n<table border=\"1\" class=\"dataframe\">\n  <thead>\n    <tr style=\"text-align: right;\">\n      <th></th>\n      <th>EAN-KOODI</th>\n      <th>total€</th>\n      <th>TUOTENIMI</th>\n      <th>TUOTERYHMÄ</th>\n    </tr>\n  </thead>\n  <tbody>\n    <tr>\n      <th>0</th>\n      <td>6430015538009</td>\n      <td>3103.22</td>\n      <td>Fazer Aito 1l ESL Gluteeniton Kaurajuoma</td>\n      <td>Kasvipohjaiset juomat</td>\n    </tr>\n    <tr>\n      <th>1</th>\n      <td>6414893500167</td>\n      <td>1463.53</td>\n      <td>Kotimaista naudan jauheliha 17 % 700 g</td>\n      <td>Tuore valintaliha</td>\n    </tr>\n    <tr>\n      <th>2</th>\n      <td>6438348001566</td>\n      <td>1238.60</td>\n      <td>Kotimaista Kaurajuoma ESL 1l</td>\n      <td>Kasvipohjaiset juomat</td>\n    </tr>\n    <tr>\n      <th>3</th>\n      <td>6407810014397</td>\n      <td>1188.18</td>\n      <td>Atria Kanan Ohut Fileeleike Pehmeän Pippurinen...</td>\n      <td>Tuore valintaliha</td>\n    </tr>\n    <tr>\n      <th>4</th>\n      <td>7310100703347</td>\n      <td>1170.85</td>\n      <td>Semper Fruktmums Persikka 6kk hedelmäsose 110g</td>\n      <td>Lastenruoat</td>\n    </tr>\n    <tr>\n      <th>5</th>\n      <td>7310100703262</td>\n      <td>1141.66</td>\n      <td>Semper Fruktmums Vadelma 6kk hedelmäsose 110g</td>\n      <td>Lastenruoat</td>\n    </tr>\n    <tr>\n      <th>6</th>\n      <td>6408430039432</td>\n      <td>1074.79</td>\n      <td>Valio Oltermanni® e1 kg</td>\n      <td>Perusjuustopalat</td>\n    </tr>\n    <tr>\n      <th>7</th>\n      <td>6413605015210</td>\n      <td>941.36</td>\n      <td>4 x Pepsi Max virvoitusjuoma 2,0 l</td>\n      <td>Virvoitusjuomat</td>\n    </tr>\n    <tr>\n      <th>8</th>\n      <td>2000503600002</td>\n      <td>739.38</td>\n      <td>Chiquita-banaani</td>\n      <td>Hedelmät</td>\n    </tr>\n    <tr>\n      <th>9</th>\n      <td>7322541090580</td>\n      <td>726.27</td>\n      <td>Libero Up&amp;Go housuvaippa koko 6, 13-20 kg, 56 kpl</td>\n      <td>Vauvanvaipat</td>\n    </tr>\n    <tr>\n      <th>10</th>\n      <td>6414893501003</td>\n      <td>605.40</td>\n      <td>Kotimaista Kanan fileesuikale miedosti suolatt...</td>\n      <td>Tuore valintaliha</td>\n    </tr>\n    <tr>\n      <th>11</th>\n      <td>7322541743004</td>\n      <td>584.99</td>\n      <td>LIBERO Up&amp;Go housuvaippa koko 6, 54kpl, 13-20 kg</td>\n      <td>Vauvanvaipat</td>\n    </tr>\n    <tr>\n      <th>12</th>\n      <td>6409100054243</td>\n      <td>575.67</td>\n      <td>Kevyt linja meetvursti 100 g</td>\n      <td>Tuoreet lihavalmisteet valinta</td>\n    </tr>\n    <tr>\n      <th>13</th>\n      <td>6416961000661</td>\n      <td>523.60</td>\n      <td>porlammin vege plus viipaleet 150 g</td>\n      <td>Kasvipohjaiset juustot</td>\n    </tr>\n    <tr>\n      <th>14</th>\n      <td>6411300000494</td>\n      <td>498.18</td>\n      <td>Paulig Juhla Mokka kahvi suodatinjauhatus 500g</td>\n      <td>Kahvit ja suodatinpaperit</td>\n    </tr>\n    <tr>\n      <th>15</th>\n      <td>6409100060916</td>\n      <td>485.28</td>\n      <td>HK Popsi® Grillinakki 300 g</td>\n      <td>Tuoreet lihavalmisteet valinta</td>\n    </tr>\n    <tr>\n      <th>16</th>\n      <td>6415712715595</td>\n      <td>483.29</td>\n      <td>Rainbow Kana-tacosalaatti 300g</td>\n      <td>Valmisruoka valinta</td>\n    </tr>\n    <tr>\n      <th>17</th>\n      <td>6407830037277</td>\n      <td>444.35</td>\n      <td>Atria Kanan Ohut Fileeleike Mustapippuri 500g</td>\n      <td>Tuore valintaliha</td>\n    </tr>\n    <tr>\n      <th>18</th>\n      <td>6410380097752</td>\n      <td>437.14</td>\n      <td>Oolannin muusiperuna 400g</td>\n      <td>Perunapakasteet</td>\n    </tr>\n    <tr>\n      <th>19</th>\n      <td>6413200330404</td>\n      <td>420.40</td>\n      <td>LOTUS Soft Embo wc-paperi 16 rll</td>\n      <td>Wc-paperit</td>\n    </tr>\n    <tr>\n      <th>20</th>\n      <td>6430048443011</td>\n      <td>399.80</td>\n      <td>3 Kaveria Vegaaninen Suklaa &amp; Pähkinäkinuski j...</td>\n      <td>Jäätelö</td>\n    </tr>\n    <tr>\n      <th>21</th>\n      <td>6407830038496</td>\n      <td>387.69</td>\n      <td>Jyväbroiler Iso Suikale Broilerin Fileestä Nat...</td>\n      <td>Tuore valintaliha</td>\n    </tr>\n    <tr>\n      <th>22</th>\n      <td>6406300009608</td>\n      <td>384.67</td>\n      <td>Kivikylän Palvarin Lihapyörykkä 350g</td>\n      <td>Valmisruoka valinta</td>\n    </tr>\n    <tr>\n      <th>23</th>\n      <td>6414894500210</td>\n      <td>384.09</td>\n      <td>Rainbow miniluumutomaatti 250g</td>\n      <td>Vihannekset</td>\n    </tr>\n    <tr>\n      <th>24</th>\n      <td>6409620364501</td>\n      <td>382.32</td>\n      <td>Snellman Kinkkusuikaleet 300g</td>\n      <td>Tuoreet lihavalmisteet valinta</td>\n    </tr>\n    <tr>\n      <th>25</th>\n      <td>6430015538085</td>\n      <td>380.41</td>\n      <td>Fazer Aito Kauraruoka 2,5dl gluteeniton kaurav...</td>\n      <td>Ruoanv ja leivontatuotteet maitotal</td>\n    </tr>\n    <tr>\n      <th>26</th>\n      <td>2000604700007</td>\n      <td>379.41</td>\n      <td>Kurkku Suomi</td>\n      <td>Vihannekset</td>\n    </tr>\n    <tr>\n      <th>27</th>\n      <td>6413600015161</td>\n      <td>377.47</td>\n      <td>2 x Pepsi Max virvoitusjuoma 1,5 l</td>\n      <td>Virvoitusjuomat</td>\n    </tr>\n    <tr>\n      <th>28</th>\n      <td>6416288111125</td>\n      <td>373.40</td>\n      <td>TalkMuru aamiaismuro 250 g, Taivalkosken Mylly</td>\n      <td>Murot ja myslit</td>\n    </tr>\n    <tr>\n      <th>29</th>\n      <td>2393064000009</td>\n      <td>366.57</td>\n      <td>Rainbow lohifilee 800-1400g vac n10kg</td>\n      <td>Tuore kala valinta</td>\n    </tr>\n    <tr>\n      <th>30</th>\n      <td>6415715101388</td>\n      <td>357.50</td>\n      <td>Rainbow kirjolohisuikale miedosti suolattu 300g</td>\n      <td>Tuore kala valinta</td>\n    </tr>\n    <tr>\n      <th>31</th>\n      <td>6430015538108</td>\n      <td>351.52</td>\n      <td>Fazer Aito Vispi 2,5 dl, gluteeniton vispautuv...</td>\n      <td>Ruoanv ja leivontatuotteet maitotal</td>\n    </tr>\n    <tr>\n      <th>32</th>\n      <td>2000522100002</td>\n      <td>333.58</td>\n      <td>Päärynä Conference I Hollanti</td>\n      <td>Hedelmät</td>\n    </tr>\n    <tr>\n      <th>33</th>\n      <td>6438207011620</td>\n      <td>320.17</td>\n      <td>Keiju Laktoositon kasvirasvalevite 70 % 600 g</td>\n      <td>Rasiamargariinit</td>\n    </tr>\n    <tr>\n      <th>34</th>\n      <td>2000631800008</td>\n      <td>315.25</td>\n      <td>Paprika punainen</td>\n      <td>Vihannekset</td>\n    </tr>\n    <tr>\n      <th>35</th>\n      <td>6416710300349</td>\n      <td>303.68</td>\n      <td>Filos original halloumi-juusto 200g</td>\n      <td>Ruokajuustot</td>\n    </tr>\n    <tr>\n      <th>36</th>\n      <td>6420256015407</td>\n      <td>296.16</td>\n      <td>Jenkki Herra Hakkarainen Mansikka &amp; Päärynä tä...</td>\n      <td>Makeiset</td>\n    </tr>\n    <tr>\n      <th>37</th>\n      <td>6408430337613</td>\n      <td>294.38</td>\n      <td>Valio salaattijuusto kuutiot 180 g laktoositon</td>\n      <td>Ruokajuustot</td>\n    </tr>\n    <tr>\n      <th>38</th>\n      <td>6409620010057</td>\n      <td>293.99</td>\n      <td>Snellman Superior kinkku 180g</td>\n      <td>Tuoreet lihavalmisteet valinta</td>\n    </tr>\n    <tr>\n      <th>39</th>\n      <td>6411402202406</td>\n      <td>289.01</td>\n      <td>Fazer Puikula Kaura 9kpl 550g, kauraleipä</td>\n      <td>Vaaleat leivät</td>\n    </tr>\n    <tr>\n      <th>40</th>\n      <td>2396004000008</td>\n      <td>286.76</td>\n      <td>Rainbow Savustettu lohifileepala n 300g</td>\n      <td>Kalavalmisteet valinta</td>\n    </tr>\n    <tr>\n      <th>41</th>\n      <td>6414893385535</td>\n      <td>281.79</td>\n      <td>Rainbow 175g Mozzarellajuustoraaste</td>\n      <td>Ruokajuustot</td>\n    </tr>\n    <tr>\n      <th>42</th>\n      <td>6408430037001</td>\n      <td>280.74</td>\n      <td>Valio AURA® e170 g pala</td>\n      <td>Erikoisjuustot</td>\n    </tr>\n    <tr>\n      <th>43</th>\n      <td>6430104920500</td>\n      <td>280.71</td>\n      <td>Apetit Herne-maissi-porkkana pakaste 200g</td>\n      <td>Kasvispakasteet</td>\n    </tr>\n    <tr>\n      <th>44</th>\n      <td>6407800010170</td>\n      <td>271.46</td>\n      <td>Atria Kanan Minuuttifilee Pehmeän Pippurinen 760g</td>\n      <td>Tuore valintaliha</td>\n    </tr>\n    <tr>\n      <th>45</th>\n      <td>6414894500609</td>\n      <td>260.65</td>\n      <td>Rainbow vihreä siemenetön viinirypäle 500 g</td>\n      <td>Hedelmät</td>\n    </tr>\n    <tr>\n      <th>46</th>\n      <td>2000041000005</td>\n      <td>244.08</td>\n      <td>Appelsiini Navelina Espanja</td>\n      <td>Hedelmät</td>\n    </tr>\n    <tr>\n      <th>47</th>\n      <td>8718226440051</td>\n      <td>232.87</td>\n      <td>Vadelma 125g</td>\n      <td>Marjat ja raparperi</td>\n    </tr>\n    <tr>\n      <th>48</th>\n      <td>6408430408313</td>\n      <td>232.44</td>\n      <td>Valio Oddlygood® kaurapohjainen gurtti 1 kg va...</td>\n      <td>Jogurtti</td>\n    </tr>\n    <tr>\n      <th>49</th>\n      <td>6412989528750</td>\n      <td>229.00</td>\n      <td>Silvertree kaasugrilli 3 poltinta Trio</td>\n      <td>Grillit</td>\n    </tr>\n  </tbody>\n</table>\n</div>"
     },
     "execution_count": 538,
     "metadata": {},
     "output_type": "execute_result"
    }
   ],
   "source": [
    "top_products = raw_data\\\n",
    "    .groupby(by=['EAN-KOODI']) \\\n",
    "    .agg({'Myyntihinta €': 'sum', 'TUOTENIMI':'max', 'TUOTERYHMÄ':'max'}) \\\n",
    "    .rename(columns={'Myyntihinta €':'total€'})\n",
    "\n",
    "top_products = top_products.sort_values(by='total€', ascending=False).reset_index().head(50)\n",
    "top_eanCodes = top_products['EAN-KOODI'].values\n",
    "\n",
    "top_products"
   ],
   "metadata": {
    "collapsed": false,
    "ExecuteTime": {
     "end_time": "2024-06-14T16:55:38.658954300Z",
     "start_time": "2024-06-14T16:55:37.951734100Z"
    }
   },
   "id": "b27993e53b6e6a5c",
   "execution_count": 538
  },
  {
   "cell_type": "markdown",
   "source": [
    "Create product dimension based on top products"
   ],
   "metadata": {
    "collapsed": false
   },
   "id": "5a512abcd78c3b1d"
  },
  {
   "cell_type": "code",
   "outputs": [
    {
     "data": {
      "text/plain": "                                         productName           productGroup  \\\n0           Fazer Aito 1l ESL Gluteeniton Kaurajuoma  Kasvipohjaiset juomat   \n1             Kotimaista naudan jauheliha 17 % 700 g      Tuore valintaliha   \n2                       Kotimaista Kaurajuoma ESL 1l  Kasvipohjaiset juomat   \n3  Atria Kanan Ohut Fileeleike Pehmeän Pippurinen...      Tuore valintaliha   \n4     Semper Fruktmums Persikka 6kk hedelmäsose 110g            Lastenruoat   \n\n         eanCode  \n0  6430015538009  \n1  6414893500167  \n2  6438348001566  \n3  6407810014397  \n4  7310100703347  ",
      "text/html": "<div>\n<style scoped>\n    .dataframe tbody tr th:only-of-type {\n        vertical-align: middle;\n    }\n\n    .dataframe tbody tr th {\n        vertical-align: top;\n    }\n\n    .dataframe thead th {\n        text-align: right;\n    }\n</style>\n<table border=\"1\" class=\"dataframe\">\n  <thead>\n    <tr style=\"text-align: right;\">\n      <th></th>\n      <th>productName</th>\n      <th>productGroup</th>\n      <th>eanCode</th>\n    </tr>\n  </thead>\n  <tbody>\n    <tr>\n      <th>0</th>\n      <td>Fazer Aito 1l ESL Gluteeniton Kaurajuoma</td>\n      <td>Kasvipohjaiset juomat</td>\n      <td>6430015538009</td>\n    </tr>\n    <tr>\n      <th>1</th>\n      <td>Kotimaista naudan jauheliha 17 % 700 g</td>\n      <td>Tuore valintaliha</td>\n      <td>6414893500167</td>\n    </tr>\n    <tr>\n      <th>2</th>\n      <td>Kotimaista Kaurajuoma ESL 1l</td>\n      <td>Kasvipohjaiset juomat</td>\n      <td>6438348001566</td>\n    </tr>\n    <tr>\n      <th>3</th>\n      <td>Atria Kanan Ohut Fileeleike Pehmeän Pippurinen...</td>\n      <td>Tuore valintaliha</td>\n      <td>6407810014397</td>\n    </tr>\n    <tr>\n      <th>4</th>\n      <td>Semper Fruktmums Persikka 6kk hedelmäsose 110g</td>\n      <td>Lastenruoat</td>\n      <td>7310100703347</td>\n    </tr>\n  </tbody>\n</table>\n</div>"
     },
     "execution_count": 539,
     "metadata": {},
     "output_type": "execute_result"
    }
   ],
   "source": [
    "# Product dimension\n",
    "D_Product = top_products[['TUOTENIMI', 'TUOTERYHMÄ', 'EAN-KOODI']].reset_index(drop=True)\n",
    "D_Product = D_Product.rename(columns={'TUOTERYHMÄ':'productGroup', 'TUOTENIMI':'productName', 'EAN-KOODI':'eanCode'})\n",
    "D_Product.head()"
   ],
   "metadata": {
    "collapsed": false,
    "ExecuteTime": {
     "end_time": "2024-06-14T16:55:38.753536500Z",
     "start_time": "2024-06-14T16:55:38.657786200Z"
    }
   },
   "id": "8cf4e7763303cbb4",
   "execution_count": 539
  },
  {
   "cell_type": "markdown",
   "source": [],
   "metadata": {
    "collapsed": false
   },
   "id": "79588a5c19ec7302"
  },
  {
   "cell_type": "markdown",
   "source": [
    "Create the timestamps as the baseline for price time series"
   ],
   "metadata": {
    "collapsed": false
   },
   "id": "73cc08c77b9889fa"
  },
  {
   "cell_type": "code",
   "outputs": [],
   "source": [
    "mindate = raw_data['PÄIVÄMÄÄRÄ'].min()\n",
    "maxdate = raw_data['PÄIVÄMÄÄRÄ'].max()\n",
    "\n",
    "date_range = pd.date_range(start=mindate, end=maxdate)\n",
    "\n",
    "date_range = pd.DataFrame(date_range)\n",
    "date_range = date_range.rename(columns={0:'date'})"
   ],
   "metadata": {
    "collapsed": false,
    "ExecuteTime": {
     "end_time": "2024-06-14T16:55:38.782346500Z",
     "start_time": "2024-06-14T16:55:38.694006100Z"
    }
   },
   "id": "d4edd7a0cdc04490",
   "execution_count": 540
  },
  {
   "cell_type": "markdown",
   "source": [
    "Define function for creating price history for a product"
   ],
   "metadata": {
    "collapsed": false
   },
   "id": "e7475551bef08bd3"
  },
  {
   "cell_type": "code",
   "outputs": [],
   "source": [
    "def price_history_for_product(ean_code:int, product_transactions:pd.DataFrame, dates_df:pd.DataFrame) -> pd.DataFrame:\n",
    "    \"\"\"\n",
    "    Fills the gaps in the transactions dataframe\n",
    "    \"\"\"\n",
    "    # Get max price for each day (if multiple rows for one day)\n",
    "    product_daily_prices = product_transactions.groupby('PÄIVÄMÄÄRÄ').agg({'Yksikköhinta € verollinen': 'max'})\n",
    "    product_daily_prices['eanCode'] = ean_code\n",
    "\n",
    "    # left join product daily price with the date range\n",
    "    product_daily_prices_full = pd.merge(left=dates_df, right=product_daily_prices, left_on='date', right_on='PÄIVÄMÄÄRÄ', how='left')\n",
    "\n",
    "    product_daily_prices_full_final = product_daily_prices_full.sort_values(by='date').ffill(limit=100)\n",
    "    # product_daily_prices_full_final = product_daily_prices_full.bfill() # Fill the first blank dates of the time series\n",
    "\n",
    "    return product_daily_prices_full_final\n"
   ],
   "metadata": {
    "collapsed": false,
    "ExecuteTime": {
     "end_time": "2024-06-14T16:55:38.783421400Z",
     "start_time": "2024-06-14T16:55:38.717862700Z"
    }
   },
   "id": "3b210888e765f4d1",
   "execution_count": 541
  },
  {
   "cell_type": "markdown",
   "source": [
    "Create the price histories for all products"
   ],
   "metadata": {
    "collapsed": false
   },
   "id": "a9d2402bd6f201bf"
  },
  {
   "cell_type": "code",
   "outputs": [
    {
     "data": {
      "text/plain": "             date  unitPrice        eanCode  \\\n54636  2023-02-09       2.79  6413600015161   \n59839  2021-03-10       3.98  6415715101388   \n3637   2023-07-28       6.95  6414893500167   \n80145  2022-11-26      27.90  2396004000008   \n85901  2022-07-01       0.95  6430104920500   \n38810  2022-11-19       9.49  6413200330404   \n95878  2022-11-15       2.98  6408430408313   \n50786  2023-05-06       1.09  6430015538085   \n35496  2019-03-14       1.79  6410380097752   \n63500  2020-06-08       1.97  2000522100002   \n\n                                             productName  \\\n54636                 2 x Pepsi Max virvoitusjuoma 1,5 l   \n59839    Rainbow kirjolohisuikale miedosti suolattu 300g   \n3637              Kotimaista naudan jauheliha 17 % 700 g   \n80145            Rainbow Savustettu lohifileepala n 300g   \n85901          Apetit Herne-maissi-porkkana pakaste 200g   \n38810                   LOTUS Soft Embo wc-paperi 16 rll   \n95878  Valio Oddlygood® kaurapohjainen gurtti 1 kg va...   \n50786  Fazer Aito Kauraruoka 2,5dl gluteeniton kaurav...   \n35496                          Oolannin muusiperuna 400g   \n63500                      Päärynä Conference I Hollanti   \n\n                              productGroup  \n54636                      Virvoitusjuomat  \n59839                   Tuore kala valinta  \n3637                     Tuore valintaliha  \n80145               Kalavalmisteet valinta  \n85901                      Kasvispakasteet  \n38810                           Wc-paperit  \n95878                             Jogurtti  \n50786  Ruoanv ja leivontatuotteet maitotal  \n35496                      Perunapakasteet  \n63500                             Hedelmät  ",
      "text/html": "<div>\n<style scoped>\n    .dataframe tbody tr th:only-of-type {\n        vertical-align: middle;\n    }\n\n    .dataframe tbody tr th {\n        vertical-align: top;\n    }\n\n    .dataframe thead th {\n        text-align: right;\n    }\n</style>\n<table border=\"1\" class=\"dataframe\">\n  <thead>\n    <tr style=\"text-align: right;\">\n      <th></th>\n      <th>date</th>\n      <th>unitPrice</th>\n      <th>eanCode</th>\n      <th>productName</th>\n      <th>productGroup</th>\n    </tr>\n  </thead>\n  <tbody>\n    <tr>\n      <th>54636</th>\n      <td>2023-02-09</td>\n      <td>2.79</td>\n      <td>6413600015161</td>\n      <td>2 x Pepsi Max virvoitusjuoma 1,5 l</td>\n      <td>Virvoitusjuomat</td>\n    </tr>\n    <tr>\n      <th>59839</th>\n      <td>2021-03-10</td>\n      <td>3.98</td>\n      <td>6415715101388</td>\n      <td>Rainbow kirjolohisuikale miedosti suolattu 300g</td>\n      <td>Tuore kala valinta</td>\n    </tr>\n    <tr>\n      <th>3637</th>\n      <td>2023-07-28</td>\n      <td>6.95</td>\n      <td>6414893500167</td>\n      <td>Kotimaista naudan jauheliha 17 % 700 g</td>\n      <td>Tuore valintaliha</td>\n    </tr>\n    <tr>\n      <th>80145</th>\n      <td>2022-11-26</td>\n      <td>27.90</td>\n      <td>2396004000008</td>\n      <td>Rainbow Savustettu lohifileepala n 300g</td>\n      <td>Kalavalmisteet valinta</td>\n    </tr>\n    <tr>\n      <th>85901</th>\n      <td>2022-07-01</td>\n      <td>0.95</td>\n      <td>6430104920500</td>\n      <td>Apetit Herne-maissi-porkkana pakaste 200g</td>\n      <td>Kasvispakasteet</td>\n    </tr>\n    <tr>\n      <th>38810</th>\n      <td>2022-11-19</td>\n      <td>9.49</td>\n      <td>6413200330404</td>\n      <td>LOTUS Soft Embo wc-paperi 16 rll</td>\n      <td>Wc-paperit</td>\n    </tr>\n    <tr>\n      <th>95878</th>\n      <td>2022-11-15</td>\n      <td>2.98</td>\n      <td>6408430408313</td>\n      <td>Valio Oddlygood® kaurapohjainen gurtti 1 kg va...</td>\n      <td>Jogurtti</td>\n    </tr>\n    <tr>\n      <th>50786</th>\n      <td>2023-05-06</td>\n      <td>1.09</td>\n      <td>6430015538085</td>\n      <td>Fazer Aito Kauraruoka 2,5dl gluteeniton kaurav...</td>\n      <td>Ruoanv ja leivontatuotteet maitotal</td>\n    </tr>\n    <tr>\n      <th>35496</th>\n      <td>2019-03-14</td>\n      <td>1.79</td>\n      <td>6410380097752</td>\n      <td>Oolannin muusiperuna 400g</td>\n      <td>Perunapakasteet</td>\n    </tr>\n    <tr>\n      <th>63500</th>\n      <td>2020-06-08</td>\n      <td>1.97</td>\n      <td>2000522100002</td>\n      <td>Päärynä Conference I Hollanti</td>\n      <td>Hedelmät</td>\n    </tr>\n  </tbody>\n</table>\n</div>"
     },
     "execution_count": 542,
     "metadata": {},
     "output_type": "execute_result"
    }
   ],
   "source": [
    "# Get max price for each day for a product\n",
    "price_history_all_products = None\n",
    "ean_codes = top_eanCodes\n",
    "\n",
    "for ean_code in ean_codes:\n",
    "    # Filter with current product\n",
    "    product_transactions = raw_data[raw_data['EAN-KOODI'] == ean_code]\n",
    "    # Get price history for current product\n",
    "    one_product_history = price_history_for_product(ean_code, product_transactions, date_range)\n",
    "    \n",
    "    # Append data into the price_history_all_products Spark DataFrame\n",
    "    if price_history_all_products is None:\n",
    "        price_history_all_products = one_product_history\n",
    "    else:\n",
    "        price_history_all_products = pd.concat([price_history_all_products, one_product_history])\n",
    "\n",
    "# add Tuoteryhmä and TuoteNimi\n",
    "price_history_all_products = price_history_all_products.merge(D_Product, on='eanCode', how='left')\n",
    "price_history_all_products = price_history_all_products.rename(columns={'Yksikköhinta € verollinen': 'unitPrice'})\n",
    "price_history_all_products = price_history_all_products.dropna(subset=['eanCode'])\n",
    "price_history_all_products['date'] = price_history_all_products['date'].astype(str)\n",
    "\n",
    "price_history_all_products.sample(10)"
   ],
   "metadata": {
    "collapsed": false,
    "ExecuteTime": {
     "end_time": "2024-06-14T16:55:39.547016Z",
     "start_time": "2024-06-14T16:55:38.731045800Z"
    }
   },
   "id": "b754c08d2b45cfe6",
   "execution_count": 542
  },
  {
   "cell_type": "markdown",
   "source": [
    "Create basic KPIs for each product"
   ],
   "metadata": {
    "collapsed": false
   },
   "id": "d45de2eeaec3f7bc"
  },
  {
   "cell_type": "code",
   "outputs": [
    {
     "data": {
      "text/plain": "          eanCode  min_price  max_price  first_price  last_price  \\\n0   2000041000005       0.95       2.09         0.98        1.99   \n25  6413600015161       1.18       3.59         1.82        3.15   \n2   2000522100002       1.69       3.99         1.88        2.99   \n20  6410380097752       1.79       2.79         1.79        2.79   \n21  6411300000494       2.95       6.49         3.89        6.05   \n1   2000503600002       0.89       1.89         1.29        1.88   \n17  6409100060916       1.45       2.09         1.45        2.09   \n5   2393064000009       8.94      19.90        13.90       19.89   \n19  6409620364501       2.39       3.55         2.39        3.39   \n22  6411402202406       1.79       2.49         1.79        2.49   \n13  6408430039432       4.79       6.65         4.79        6.65   \n24  6413200330404       6.19       9.49         6.19        8.59   \n43  6438207011620       1.99       2.79         1.99        2.75   \n42  6430104920500       0.79       1.09         0.79        1.09   \n16  6409100054243       2.85       3.79         2.85        3.79   \n26  6413605015210       4.85       6.39         4.85        6.39   \n41  6430048443011       5.15       6.75         5.15        6.75   \n28  6414893500167       5.29       7.65         5.29        6.75   \n36  6416961000661       2.25       2.85         2.25        2.85   \n9   6407810014397       6.45       8.49         6.75        8.49   \n29  6414893501003       5.49       7.29         5.49        6.89   \n27  6414893385535       1.18       1.83         1.29        1.57   \n38  6430015538009       1.49       2.15         1.49        1.79   \n37  6420256015407       4.95       5.99         4.95        5.85   \n34  6416288111125       2.45       2.95         2.45        2.89   \n11  6407830038496       3.95       4.69         3.98        4.69   \n18  6409620010057       3.45       4.29         3.45        3.99   \n47  7322541090580      14.95      16.99        14.95       16.99   \n12  6408430037001       2.49       3.15         2.65        2.99   \n30  6414894500210       0.79       2.39         1.29        1.45   \n46  7310100703347       0.99       1.29         0.99        1.10   \n45  7310100703262       0.99       1.29         0.99        1.10   \n7   6406300009608       2.49       3.09         2.79        3.09   \n49  8718226440051       2.29       3.45         2.55        2.79   \n35  6416710300349       2.98       3.25         2.98        3.25   \n10  6407830037277       7.79       8.49         7.79        8.49   \n8   6407800010170       8.98       9.75         8.98        9.75   \n4   2000631800008       2.50       8.99         3.98        4.29   \n44  6438348001566       1.39       1.59         1.39        1.49   \n33  6415715101388       3.98       5.29         4.98        5.29   \n\n    price_change_percentage  price_change_€  \\\n0                103.061224            1.01   \n25                73.076923            1.33   \n2                 59.042553            1.11   \n20                55.865922            1.00   \n21                55.526992            2.16   \n1                 45.736434            0.59   \n17                44.137931            0.64   \n5                 43.093525            5.99   \n19                41.841004            1.00   \n22                39.106145            0.70   \n13                38.830898            1.86   \n24                38.772213            2.40   \n43                38.190955            0.76   \n42                37.974684            0.30   \n16                32.982456            0.94   \n26                31.752577            1.54   \n41                31.067961            1.60   \n28                27.599244            1.46   \n36                26.666667            0.60   \n9                 25.777778            1.74   \n29                25.500911            1.40   \n27                21.705426            0.28   \n38                20.134228            0.30   \n37                18.181818            0.90   \n34                17.959184            0.44   \n11                17.839196            0.71   \n18                15.652174            0.54   \n47                13.645485            2.04   \n12                12.830189            0.34   \n30                12.403101            0.16   \n46                11.111111            0.11   \n45                11.111111            0.11   \n7                 10.752688            0.30   \n49                 9.411765            0.24   \n35                 9.060403            0.27   \n10                 8.985879            0.70   \n8                  8.574610            0.77   \n4                  7.788945            0.31   \n44                 7.194245            0.10   \n33                 6.224900            0.31   \n\n                                          productName  \\\n0                         Appelsiini Navelina Espanja   \n25                 2 x Pepsi Max virvoitusjuoma 1,5 l   \n2                       Päärynä Conference I Hollanti   \n20                          Oolannin muusiperuna 400g   \n21     Paulig Juhla Mokka kahvi suodatinjauhatus 500g   \n1                                    Chiquita-banaani   \n17                        HK Popsi® Grillinakki 300 g   \n5               Rainbow lohifilee 800-1400g vac n10kg   \n19                      Snellman Kinkkusuikaleet 300g   \n22          Fazer Puikula Kaura 9kpl 550g, kauraleipä   \n13                            Valio Oltermanni® e1 kg   \n24                   LOTUS Soft Embo wc-paperi 16 rll   \n43      Keiju Laktoositon kasvirasvalevite 70 % 600 g   \n42          Apetit Herne-maissi-porkkana pakaste 200g   \n16                       Kevyt linja meetvursti 100 g   \n26                 4 x Pepsi Max virvoitusjuoma 2,0 l   \n41  3 Kaveria Vegaaninen Suklaa & Pähkinäkinuski j...   \n28             Kotimaista naudan jauheliha 17 % 700 g   \n36                porlammin vege plus viipaleet 150 g   \n9   Atria Kanan Ohut Fileeleike Pehmeän Pippurinen...   \n29  Kotimaista Kanan fileesuikale miedosti suolatt...   \n27                Rainbow 175g Mozzarellajuustoraaste   \n38           Fazer Aito 1l ESL Gluteeniton Kaurajuoma   \n37  Jenkki Herra Hakkarainen Mansikka & Päärynä tä...   \n34     TalkMuru aamiaismuro 250 g, Taivalkosken Mylly   \n11  Jyväbroiler Iso Suikale Broilerin Fileestä Nat...   \n18                      Snellman Superior kinkku 180g   \n47  Libero Up&Go housuvaippa koko 6, 13-20 kg, 56 kpl   \n12                            Valio AURA® e170 g pala   \n30                     Rainbow miniluumutomaatti 250g   \n46     Semper Fruktmums Persikka 6kk hedelmäsose 110g   \n45      Semper Fruktmums Vadelma 6kk hedelmäsose 110g   \n7                Kivikylän Palvarin Lihapyörykkä 350g   \n49                                       Vadelma 125g   \n35                Filos original halloumi-juusto 200g   \n10      Atria Kanan Ohut Fileeleike Mustapippuri 500g   \n8   Atria Kanan Minuuttifilee Pehmeän Pippurinen 760g   \n4                                    Paprika punainen   \n44                       Kotimaista Kaurajuoma ESL 1l   \n33    Rainbow kirjolohisuikale miedosti suolattu 300g   \n\n                      productGroup  \n0                         Hedelmät  \n25                 Virvoitusjuomat  \n2                         Hedelmät  \n20                 Perunapakasteet  \n21       Kahvit ja suodatinpaperit  \n1                         Hedelmät  \n17  Tuoreet lihavalmisteet valinta  \n5               Tuore kala valinta  \n19  Tuoreet lihavalmisteet valinta  \n22                  Vaaleat leivät  \n13                Perusjuustopalat  \n24                      Wc-paperit  \n43                Rasiamargariinit  \n42                 Kasvispakasteet  \n16  Tuoreet lihavalmisteet valinta  \n26                 Virvoitusjuomat  \n41                         Jäätelö  \n28               Tuore valintaliha  \n36          Kasvipohjaiset juustot  \n9                Tuore valintaliha  \n29               Tuore valintaliha  \n27                    Ruokajuustot  \n38           Kasvipohjaiset juomat  \n37                        Makeiset  \n34                 Murot ja myslit  \n11               Tuore valintaliha  \n18  Tuoreet lihavalmisteet valinta  \n47                    Vauvanvaipat  \n12                  Erikoisjuustot  \n30                     Vihannekset  \n46                     Lastenruoat  \n45                     Lastenruoat  \n7              Valmisruoka valinta  \n49             Marjat ja raparperi  \n35                    Ruokajuustot  \n10               Tuore valintaliha  \n8                Tuore valintaliha  \n4                      Vihannekset  \n44           Kasvipohjaiset juomat  \n33              Tuore kala valinta  ",
      "text/html": "<div>\n<style scoped>\n    .dataframe tbody tr th:only-of-type {\n        vertical-align: middle;\n    }\n\n    .dataframe tbody tr th {\n        vertical-align: top;\n    }\n\n    .dataframe thead th {\n        text-align: right;\n    }\n</style>\n<table border=\"1\" class=\"dataframe\">\n  <thead>\n    <tr style=\"text-align: right;\">\n      <th></th>\n      <th>eanCode</th>\n      <th>min_price</th>\n      <th>max_price</th>\n      <th>first_price</th>\n      <th>last_price</th>\n      <th>price_change_percentage</th>\n      <th>price_change_€</th>\n      <th>productName</th>\n      <th>productGroup</th>\n    </tr>\n  </thead>\n  <tbody>\n    <tr>\n      <th>0</th>\n      <td>2000041000005</td>\n      <td>0.95</td>\n      <td>2.09</td>\n      <td>0.98</td>\n      <td>1.99</td>\n      <td>103.061224</td>\n      <td>1.01</td>\n      <td>Appelsiini Navelina Espanja</td>\n      <td>Hedelmät</td>\n    </tr>\n    <tr>\n      <th>25</th>\n      <td>6413600015161</td>\n      <td>1.18</td>\n      <td>3.59</td>\n      <td>1.82</td>\n      <td>3.15</td>\n      <td>73.076923</td>\n      <td>1.33</td>\n      <td>2 x Pepsi Max virvoitusjuoma 1,5 l</td>\n      <td>Virvoitusjuomat</td>\n    </tr>\n    <tr>\n      <th>2</th>\n      <td>2000522100002</td>\n      <td>1.69</td>\n      <td>3.99</td>\n      <td>1.88</td>\n      <td>2.99</td>\n      <td>59.042553</td>\n      <td>1.11</td>\n      <td>Päärynä Conference I Hollanti</td>\n      <td>Hedelmät</td>\n    </tr>\n    <tr>\n      <th>20</th>\n      <td>6410380097752</td>\n      <td>1.79</td>\n      <td>2.79</td>\n      <td>1.79</td>\n      <td>2.79</td>\n      <td>55.865922</td>\n      <td>1.00</td>\n      <td>Oolannin muusiperuna 400g</td>\n      <td>Perunapakasteet</td>\n    </tr>\n    <tr>\n      <th>21</th>\n      <td>6411300000494</td>\n      <td>2.95</td>\n      <td>6.49</td>\n      <td>3.89</td>\n      <td>6.05</td>\n      <td>55.526992</td>\n      <td>2.16</td>\n      <td>Paulig Juhla Mokka kahvi suodatinjauhatus 500g</td>\n      <td>Kahvit ja suodatinpaperit</td>\n    </tr>\n    <tr>\n      <th>1</th>\n      <td>2000503600002</td>\n      <td>0.89</td>\n      <td>1.89</td>\n      <td>1.29</td>\n      <td>1.88</td>\n      <td>45.736434</td>\n      <td>0.59</td>\n      <td>Chiquita-banaani</td>\n      <td>Hedelmät</td>\n    </tr>\n    <tr>\n      <th>17</th>\n      <td>6409100060916</td>\n      <td>1.45</td>\n      <td>2.09</td>\n      <td>1.45</td>\n      <td>2.09</td>\n      <td>44.137931</td>\n      <td>0.64</td>\n      <td>HK Popsi® Grillinakki 300 g</td>\n      <td>Tuoreet lihavalmisteet valinta</td>\n    </tr>\n    <tr>\n      <th>5</th>\n      <td>2393064000009</td>\n      <td>8.94</td>\n      <td>19.90</td>\n      <td>13.90</td>\n      <td>19.89</td>\n      <td>43.093525</td>\n      <td>5.99</td>\n      <td>Rainbow lohifilee 800-1400g vac n10kg</td>\n      <td>Tuore kala valinta</td>\n    </tr>\n    <tr>\n      <th>19</th>\n      <td>6409620364501</td>\n      <td>2.39</td>\n      <td>3.55</td>\n      <td>2.39</td>\n      <td>3.39</td>\n      <td>41.841004</td>\n      <td>1.00</td>\n      <td>Snellman Kinkkusuikaleet 300g</td>\n      <td>Tuoreet lihavalmisteet valinta</td>\n    </tr>\n    <tr>\n      <th>22</th>\n      <td>6411402202406</td>\n      <td>1.79</td>\n      <td>2.49</td>\n      <td>1.79</td>\n      <td>2.49</td>\n      <td>39.106145</td>\n      <td>0.70</td>\n      <td>Fazer Puikula Kaura 9kpl 550g, kauraleipä</td>\n      <td>Vaaleat leivät</td>\n    </tr>\n    <tr>\n      <th>13</th>\n      <td>6408430039432</td>\n      <td>4.79</td>\n      <td>6.65</td>\n      <td>4.79</td>\n      <td>6.65</td>\n      <td>38.830898</td>\n      <td>1.86</td>\n      <td>Valio Oltermanni® e1 kg</td>\n      <td>Perusjuustopalat</td>\n    </tr>\n    <tr>\n      <th>24</th>\n      <td>6413200330404</td>\n      <td>6.19</td>\n      <td>9.49</td>\n      <td>6.19</td>\n      <td>8.59</td>\n      <td>38.772213</td>\n      <td>2.40</td>\n      <td>LOTUS Soft Embo wc-paperi 16 rll</td>\n      <td>Wc-paperit</td>\n    </tr>\n    <tr>\n      <th>43</th>\n      <td>6438207011620</td>\n      <td>1.99</td>\n      <td>2.79</td>\n      <td>1.99</td>\n      <td>2.75</td>\n      <td>38.190955</td>\n      <td>0.76</td>\n      <td>Keiju Laktoositon kasvirasvalevite 70 % 600 g</td>\n      <td>Rasiamargariinit</td>\n    </tr>\n    <tr>\n      <th>42</th>\n      <td>6430104920500</td>\n      <td>0.79</td>\n      <td>1.09</td>\n      <td>0.79</td>\n      <td>1.09</td>\n      <td>37.974684</td>\n      <td>0.30</td>\n      <td>Apetit Herne-maissi-porkkana pakaste 200g</td>\n      <td>Kasvispakasteet</td>\n    </tr>\n    <tr>\n      <th>16</th>\n      <td>6409100054243</td>\n      <td>2.85</td>\n      <td>3.79</td>\n      <td>2.85</td>\n      <td>3.79</td>\n      <td>32.982456</td>\n      <td>0.94</td>\n      <td>Kevyt linja meetvursti 100 g</td>\n      <td>Tuoreet lihavalmisteet valinta</td>\n    </tr>\n    <tr>\n      <th>26</th>\n      <td>6413605015210</td>\n      <td>4.85</td>\n      <td>6.39</td>\n      <td>4.85</td>\n      <td>6.39</td>\n      <td>31.752577</td>\n      <td>1.54</td>\n      <td>4 x Pepsi Max virvoitusjuoma 2,0 l</td>\n      <td>Virvoitusjuomat</td>\n    </tr>\n    <tr>\n      <th>41</th>\n      <td>6430048443011</td>\n      <td>5.15</td>\n      <td>6.75</td>\n      <td>5.15</td>\n      <td>6.75</td>\n      <td>31.067961</td>\n      <td>1.60</td>\n      <td>3 Kaveria Vegaaninen Suklaa &amp; Pähkinäkinuski j...</td>\n      <td>Jäätelö</td>\n    </tr>\n    <tr>\n      <th>28</th>\n      <td>6414893500167</td>\n      <td>5.29</td>\n      <td>7.65</td>\n      <td>5.29</td>\n      <td>6.75</td>\n      <td>27.599244</td>\n      <td>1.46</td>\n      <td>Kotimaista naudan jauheliha 17 % 700 g</td>\n      <td>Tuore valintaliha</td>\n    </tr>\n    <tr>\n      <th>36</th>\n      <td>6416961000661</td>\n      <td>2.25</td>\n      <td>2.85</td>\n      <td>2.25</td>\n      <td>2.85</td>\n      <td>26.666667</td>\n      <td>0.60</td>\n      <td>porlammin vege plus viipaleet 150 g</td>\n      <td>Kasvipohjaiset juustot</td>\n    </tr>\n    <tr>\n      <th>9</th>\n      <td>6407810014397</td>\n      <td>6.45</td>\n      <td>8.49</td>\n      <td>6.75</td>\n      <td>8.49</td>\n      <td>25.777778</td>\n      <td>1.74</td>\n      <td>Atria Kanan Ohut Fileeleike Pehmeän Pippurinen...</td>\n      <td>Tuore valintaliha</td>\n    </tr>\n    <tr>\n      <th>29</th>\n      <td>6414893501003</td>\n      <td>5.49</td>\n      <td>7.29</td>\n      <td>5.49</td>\n      <td>6.89</td>\n      <td>25.500911</td>\n      <td>1.40</td>\n      <td>Kotimaista Kanan fileesuikale miedosti suolatt...</td>\n      <td>Tuore valintaliha</td>\n    </tr>\n    <tr>\n      <th>27</th>\n      <td>6414893385535</td>\n      <td>1.18</td>\n      <td>1.83</td>\n      <td>1.29</td>\n      <td>1.57</td>\n      <td>21.705426</td>\n      <td>0.28</td>\n      <td>Rainbow 175g Mozzarellajuustoraaste</td>\n      <td>Ruokajuustot</td>\n    </tr>\n    <tr>\n      <th>38</th>\n      <td>6430015538009</td>\n      <td>1.49</td>\n      <td>2.15</td>\n      <td>1.49</td>\n      <td>1.79</td>\n      <td>20.134228</td>\n      <td>0.30</td>\n      <td>Fazer Aito 1l ESL Gluteeniton Kaurajuoma</td>\n      <td>Kasvipohjaiset juomat</td>\n    </tr>\n    <tr>\n      <th>37</th>\n      <td>6420256015407</td>\n      <td>4.95</td>\n      <td>5.99</td>\n      <td>4.95</td>\n      <td>5.85</td>\n      <td>18.181818</td>\n      <td>0.90</td>\n      <td>Jenkki Herra Hakkarainen Mansikka &amp; Päärynä tä...</td>\n      <td>Makeiset</td>\n    </tr>\n    <tr>\n      <th>34</th>\n      <td>6416288111125</td>\n      <td>2.45</td>\n      <td>2.95</td>\n      <td>2.45</td>\n      <td>2.89</td>\n      <td>17.959184</td>\n      <td>0.44</td>\n      <td>TalkMuru aamiaismuro 250 g, Taivalkosken Mylly</td>\n      <td>Murot ja myslit</td>\n    </tr>\n    <tr>\n      <th>11</th>\n      <td>6407830038496</td>\n      <td>3.95</td>\n      <td>4.69</td>\n      <td>3.98</td>\n      <td>4.69</td>\n      <td>17.839196</td>\n      <td>0.71</td>\n      <td>Jyväbroiler Iso Suikale Broilerin Fileestä Nat...</td>\n      <td>Tuore valintaliha</td>\n    </tr>\n    <tr>\n      <th>18</th>\n      <td>6409620010057</td>\n      <td>3.45</td>\n      <td>4.29</td>\n      <td>3.45</td>\n      <td>3.99</td>\n      <td>15.652174</td>\n      <td>0.54</td>\n      <td>Snellman Superior kinkku 180g</td>\n      <td>Tuoreet lihavalmisteet valinta</td>\n    </tr>\n    <tr>\n      <th>47</th>\n      <td>7322541090580</td>\n      <td>14.95</td>\n      <td>16.99</td>\n      <td>14.95</td>\n      <td>16.99</td>\n      <td>13.645485</td>\n      <td>2.04</td>\n      <td>Libero Up&amp;Go housuvaippa koko 6, 13-20 kg, 56 kpl</td>\n      <td>Vauvanvaipat</td>\n    </tr>\n    <tr>\n      <th>12</th>\n      <td>6408430037001</td>\n      <td>2.49</td>\n      <td>3.15</td>\n      <td>2.65</td>\n      <td>2.99</td>\n      <td>12.830189</td>\n      <td>0.34</td>\n      <td>Valio AURA® e170 g pala</td>\n      <td>Erikoisjuustot</td>\n    </tr>\n    <tr>\n      <th>30</th>\n      <td>6414894500210</td>\n      <td>0.79</td>\n      <td>2.39</td>\n      <td>1.29</td>\n      <td>1.45</td>\n      <td>12.403101</td>\n      <td>0.16</td>\n      <td>Rainbow miniluumutomaatti 250g</td>\n      <td>Vihannekset</td>\n    </tr>\n    <tr>\n      <th>46</th>\n      <td>7310100703347</td>\n      <td>0.99</td>\n      <td>1.29</td>\n      <td>0.99</td>\n      <td>1.10</td>\n      <td>11.111111</td>\n      <td>0.11</td>\n      <td>Semper Fruktmums Persikka 6kk hedelmäsose 110g</td>\n      <td>Lastenruoat</td>\n    </tr>\n    <tr>\n      <th>45</th>\n      <td>7310100703262</td>\n      <td>0.99</td>\n      <td>1.29</td>\n      <td>0.99</td>\n      <td>1.10</td>\n      <td>11.111111</td>\n      <td>0.11</td>\n      <td>Semper Fruktmums Vadelma 6kk hedelmäsose 110g</td>\n      <td>Lastenruoat</td>\n    </tr>\n    <tr>\n      <th>7</th>\n      <td>6406300009608</td>\n      <td>2.49</td>\n      <td>3.09</td>\n      <td>2.79</td>\n      <td>3.09</td>\n      <td>10.752688</td>\n      <td>0.30</td>\n      <td>Kivikylän Palvarin Lihapyörykkä 350g</td>\n      <td>Valmisruoka valinta</td>\n    </tr>\n    <tr>\n      <th>49</th>\n      <td>8718226440051</td>\n      <td>2.29</td>\n      <td>3.45</td>\n      <td>2.55</td>\n      <td>2.79</td>\n      <td>9.411765</td>\n      <td>0.24</td>\n      <td>Vadelma 125g</td>\n      <td>Marjat ja raparperi</td>\n    </tr>\n    <tr>\n      <th>35</th>\n      <td>6416710300349</td>\n      <td>2.98</td>\n      <td>3.25</td>\n      <td>2.98</td>\n      <td>3.25</td>\n      <td>9.060403</td>\n      <td>0.27</td>\n      <td>Filos original halloumi-juusto 200g</td>\n      <td>Ruokajuustot</td>\n    </tr>\n    <tr>\n      <th>10</th>\n      <td>6407830037277</td>\n      <td>7.79</td>\n      <td>8.49</td>\n      <td>7.79</td>\n      <td>8.49</td>\n      <td>8.985879</td>\n      <td>0.70</td>\n      <td>Atria Kanan Ohut Fileeleike Mustapippuri 500g</td>\n      <td>Tuore valintaliha</td>\n    </tr>\n    <tr>\n      <th>8</th>\n      <td>6407800010170</td>\n      <td>8.98</td>\n      <td>9.75</td>\n      <td>8.98</td>\n      <td>9.75</td>\n      <td>8.574610</td>\n      <td>0.77</td>\n      <td>Atria Kanan Minuuttifilee Pehmeän Pippurinen 760g</td>\n      <td>Tuore valintaliha</td>\n    </tr>\n    <tr>\n      <th>4</th>\n      <td>2000631800008</td>\n      <td>2.50</td>\n      <td>8.99</td>\n      <td>3.98</td>\n      <td>4.29</td>\n      <td>7.788945</td>\n      <td>0.31</td>\n      <td>Paprika punainen</td>\n      <td>Vihannekset</td>\n    </tr>\n    <tr>\n      <th>44</th>\n      <td>6438348001566</td>\n      <td>1.39</td>\n      <td>1.59</td>\n      <td>1.39</td>\n      <td>1.49</td>\n      <td>7.194245</td>\n      <td>0.10</td>\n      <td>Kotimaista Kaurajuoma ESL 1l</td>\n      <td>Kasvipohjaiset juomat</td>\n    </tr>\n    <tr>\n      <th>33</th>\n      <td>6415715101388</td>\n      <td>3.98</td>\n      <td>5.29</td>\n      <td>4.98</td>\n      <td>5.29</td>\n      <td>6.224900</td>\n      <td>0.31</td>\n      <td>Rainbow kirjolohisuikale miedosti suolattu 300g</td>\n      <td>Tuore kala valinta</td>\n    </tr>\n  </tbody>\n</table>\n</div>"
     },
     "execution_count": 543,
     "metadata": {},
     "output_type": "execute_result"
    }
   ],
   "source": [
    "# price_history_all_products.groupby(by='date')['unitPrice'].quantile([0.1, 0.25, 0.5, 0.75, 0.9])\n",
    "# firstPrice, lastPrice, maxPrice, minPrice, priceChange\n",
    "\n",
    "# Filter raw_data to have top_eanCodes\n",
    "raw_data_filtered = raw_data[raw_data['EAN-KOODI'].isin(ean_codes)].reset_index(drop=True)\n",
    "product_aggregates = raw_data_filtered.groupby(by='EAN-KOODI').agg(\n",
    "        min_price=('Yksikköhinta € verollinen','min'),\n",
    "        max_price=('Yksikköhinta € verollinen', 'max'))\n",
    "\n",
    "first_price_indexes = raw_data_filtered.groupby('EAN-KOODI')['PÄIVÄMÄÄRÄ'].idxmin()\n",
    "first_prices = raw_data_filtered.loc[first_price_indexes][['Yksikköhinta € verollinen', 'EAN-KOODI']]\n",
    "first_prices = first_prices.rename(columns={'Yksikköhinta € verollinen': 'first_price'})\n",
    "\n",
    "last_price_indexes = raw_data_filtered.groupby('EAN-KOODI')['PÄIVÄMÄÄRÄ'].idxmax()\n",
    "last_prices = raw_data_filtered.loc[last_price_indexes][['Yksikköhinta € verollinen', 'EAN-KOODI']]\n",
    "last_prices = last_prices.rename(columns={'Yksikköhinta € verollinen': 'last_price'})\n",
    "\n",
    "product_aggregates = pd.merge(left=product_aggregates, right=first_prices, on='EAN-KOODI', how='left')\n",
    "product_aggregates = pd.merge(left=product_aggregates, right=last_prices, on='EAN-KOODI', how='left')\n",
    "\n",
    "product_aggregates['price_change_percentage'] = (product_aggregates['last_price'] / product_aggregates['first_price']) * 100 - 100\n",
    "\n",
    "product_aggregates['price_change_€'] = product_aggregates['last_price'] - product_aggregates['first_price']\n",
    "\n",
    "product_aggregates = product_aggregates.rename(columns={'EAN-KOODI': 'eanCode'})\n",
    "product_aggregates = pd.merge(left=product_aggregates, right=D_Product, on='eanCode', how='left')\n",
    "product_aggregates.sort_values(by='price_change_percentage', ascending=False, inplace=True)\n",
    "product_aggregates.head(40)"
   ],
   "metadata": {
    "collapsed": false,
    "ExecuteTime": {
     "end_time": "2024-06-14T16:55:39.791834600Z",
     "start_time": "2024-06-14T16:55:39.532359400Z"
    }
   },
   "id": "7d2d05f85231d7e8",
   "execution_count": 543
  },
  {
   "cell_type": "markdown",
   "source": [
    "Create quantiles of priceChangePercentage based on product price history full"
   ],
   "metadata": {
    "collapsed": false
   },
   "id": "9feb65165b3118c8"
  },
  {
   "cell_type": "code",
   "outputs": [
    {
     "data": {
      "text/plain": "quantile        date                                   Q_0_100  \\\n0         2019-01-04               [-22.6, 24.444444444444443]   \n1         2019-01-05               [-22.6, 24.444444444444443]   \n2         2019-01-06               [-22.6, 24.444444444444443]   \n3         2019-01-07               [-22.6, 24.444444444444443]   \n4         2019-01-08               [-22.6, 24.444444444444443]   \n...              ...                                       ...   \n1960      2024-05-17  [-11.555555555555555, 99.33333333333333]   \n1961      2024-05-18               [-11.688888888888888, 99.0]   \n1962      2024-05-19  [-11.822222222222223, 98.66666666666667]   \n1963      2024-05-20  [-11.955555555555556, 98.33333333333333]   \n1964      2024-05-21               [-12.088888888888889, 98.0]   \n\nquantile                                   Q_10_90  \\\n0         [-6.155555555555556, 2.7777777777777777]   \n1         [-6.155555555555556, 2.7777777777777777]   \n2         [-6.155555555555556, 2.7777777777777777]   \n3         [-6.155555555555556, 2.7777777777777777]   \n4         [-6.155555555555556, 2.7777777777777777]   \n...                                            ...   \n1960                     [0.0, 51.644444444444446]   \n1961                     [0.0, 51.666666666666664]   \n1962                      [0.0, 51.68888888888889]   \n1963                      [0.0, 51.71111111111111]   \n1964                     [0.0, 51.733333333333334]   \n\nquantile                     Q_25_75       Q_50  \n0         [0.0, 0.06666666666666667]   0.000000  \n1         [0.0, 0.06666666666666667]   0.000000  \n2         [0.0, 0.06666666666666667]   0.000000  \n3         [0.0, 0.06666666666666667]   0.000000  \n4         [0.0, 0.06666666666666667]   0.000000  \n...                              ...        ...  \n1960       [8.866666666666667, 38.0]  23.888889  \n1961        [8.88888888888889, 38.0]  23.822222  \n1962       [8.911111111111111, 38.0]  23.755556  \n1963       [8.933333333333334, 38.0]  23.688889  \n1964       [8.955555555555556, 38.0]  23.644444  \n\n[1965 rows x 5 columns]",
      "text/html": "<div>\n<style scoped>\n    .dataframe tbody tr th:only-of-type {\n        vertical-align: middle;\n    }\n\n    .dataframe tbody tr th {\n        vertical-align: top;\n    }\n\n    .dataframe thead th {\n        text-align: right;\n    }\n</style>\n<table border=\"1\" class=\"dataframe\">\n  <thead>\n    <tr style=\"text-align: right;\">\n      <th>quantile</th>\n      <th>date</th>\n      <th>Q_0_100</th>\n      <th>Q_10_90</th>\n      <th>Q_25_75</th>\n      <th>Q_50</th>\n    </tr>\n  </thead>\n  <tbody>\n    <tr>\n      <th>0</th>\n      <td>2019-01-04</td>\n      <td>[-22.6, 24.444444444444443]</td>\n      <td>[-6.155555555555556, 2.7777777777777777]</td>\n      <td>[0.0, 0.06666666666666667]</td>\n      <td>0.000000</td>\n    </tr>\n    <tr>\n      <th>1</th>\n      <td>2019-01-05</td>\n      <td>[-22.6, 24.444444444444443]</td>\n      <td>[-6.155555555555556, 2.7777777777777777]</td>\n      <td>[0.0, 0.06666666666666667]</td>\n      <td>0.000000</td>\n    </tr>\n    <tr>\n      <th>2</th>\n      <td>2019-01-06</td>\n      <td>[-22.6, 24.444444444444443]</td>\n      <td>[-6.155555555555556, 2.7777777777777777]</td>\n      <td>[0.0, 0.06666666666666667]</td>\n      <td>0.000000</td>\n    </tr>\n    <tr>\n      <th>3</th>\n      <td>2019-01-07</td>\n      <td>[-22.6, 24.444444444444443]</td>\n      <td>[-6.155555555555556, 2.7777777777777777]</td>\n      <td>[0.0, 0.06666666666666667]</td>\n      <td>0.000000</td>\n    </tr>\n    <tr>\n      <th>4</th>\n      <td>2019-01-08</td>\n      <td>[-22.6, 24.444444444444443]</td>\n      <td>[-6.155555555555556, 2.7777777777777777]</td>\n      <td>[0.0, 0.06666666666666667]</td>\n      <td>0.000000</td>\n    </tr>\n    <tr>\n      <th>...</th>\n      <td>...</td>\n      <td>...</td>\n      <td>...</td>\n      <td>...</td>\n      <td>...</td>\n    </tr>\n    <tr>\n      <th>1960</th>\n      <td>2024-05-17</td>\n      <td>[-11.555555555555555, 99.33333333333333]</td>\n      <td>[0.0, 51.644444444444446]</td>\n      <td>[8.866666666666667, 38.0]</td>\n      <td>23.888889</td>\n    </tr>\n    <tr>\n      <th>1961</th>\n      <td>2024-05-18</td>\n      <td>[-11.688888888888888, 99.0]</td>\n      <td>[0.0, 51.666666666666664]</td>\n      <td>[8.88888888888889, 38.0]</td>\n      <td>23.822222</td>\n    </tr>\n    <tr>\n      <th>1962</th>\n      <td>2024-05-19</td>\n      <td>[-11.822222222222223, 98.66666666666667]</td>\n      <td>[0.0, 51.68888888888889]</td>\n      <td>[8.911111111111111, 38.0]</td>\n      <td>23.755556</td>\n    </tr>\n    <tr>\n      <th>1963</th>\n      <td>2024-05-20</td>\n      <td>[-11.955555555555556, 98.33333333333333]</td>\n      <td>[0.0, 51.71111111111111]</td>\n      <td>[8.933333333333334, 38.0]</td>\n      <td>23.688889</td>\n    </tr>\n    <tr>\n      <th>1964</th>\n      <td>2024-05-21</td>\n      <td>[-12.088888888888889, 98.0]</td>\n      <td>[0.0, 51.733333333333334]</td>\n      <td>[8.955555555555556, 38.0]</td>\n      <td>23.644444</td>\n    </tr>\n  </tbody>\n</table>\n<p>1965 rows × 5 columns</p>\n</div>"
     },
     "execution_count": 544,
     "metadata": {},
     "output_type": "execute_result"
    }
   ],
   "source": [
    "quantiles = [0.0, 0.1, 0.25, 0.5, 0.75, 0.9, 1]\n",
    "price_history_quantiles = price_history_all_products.merge(product_aggregates[['first_price', 'eanCode']], how='left', on='eanCode')\n",
    "price_history_quantiles['price_change_percentage'] = price_history_quantiles['unitPrice'] / price_history_quantiles['first_price'] * 100 - 100\n",
    "price_history_quantiles = price_history_quantiles.groupby(by='date')['price_change_percentage'].quantile(quantiles).reset_index()\n",
    "price_history_quantiles.columns = ['date', 'quantile', 'price_change_percentage']\n",
    "\n",
    "def custom_round(x, base=5):\n",
    "    return float(int(base * round(float(x)/base)))\n",
    "\n",
    "\n",
    "price_history_quantiles['price_change_percentage'] = price_history_quantiles['price_change_percentage'].apply(lambda x: custom_round(x, 2))\n",
    "\n",
    "price_history_quantiles = price_history_quantiles.pivot(columns='quantile', values='price_change_percentage', index='date')\n",
    "\n",
    "# Smoothen the curves by applying rolling mean and bfill() to each column\n",
    "\n",
    "for col in price_history_quantiles.columns:\n",
    "    \n",
    "    price_history_quantiles[col] = price_history_quantiles[col].rolling(window=90).mean() \n",
    "    price_history_quantiles[col] = price_history_quantiles[col].bfill() \n",
    "\n",
    "price_history_quantiles['Q_0_100'] = price_history_quantiles.apply(lambda x: [x[0.0], x[1]], axis=1)\n",
    "price_history_quantiles['Q_10_90'] = price_history_quantiles.apply(lambda x: [x[0.10], x[0.90]], axis=1)\n",
    "price_history_quantiles['Q_25_75'] = price_history_quantiles.apply(lambda x: [x[0.25], x[0.75]], axis=1)\n",
    "price_history_quantiles['Q_50'] = price_history_quantiles[0.5].astype(float)  # Ensure this is a float\n",
    "\n",
    "\n",
    "\n",
    "price_history_quantiles = price_history_quantiles.drop(columns=quantiles)\n",
    "price_history_quantiles = price_history_quantiles.reset_index()\n",
    "\n",
    "price_history_quantiles"
   ],
   "metadata": {
    "collapsed": false,
    "ExecuteTime": {
     "end_time": "2024-06-14T16:55:39.973638900Z",
     "start_time": "2024-06-14T16:55:39.693446700Z"
    }
   },
   "id": "d0d58155bcbd18c",
   "execution_count": 544
  },
  {
   "cell_type": "markdown",
   "source": [
    "Plotting data for validation"
   ],
   "metadata": {
    "collapsed": false
   },
   "id": "cddb857fbef0dd6a"
  },
  {
   "cell_type": "code",
   "outputs": [
    {
     "name": "stderr",
     "output_type": "stream",
     "text": [
      "C:\\Users\\Antti Luoto\\AppData\\Local\\Temp\\ipykernel_2736\\3928160541.py:7: SettingWithCopyWarning: \n",
      "A value is trying to be set on a copy of a slice from a DataFrame.\n",
      "Try using .loc[row_indexer,col_indexer] = value instead\n",
      "\n",
      "See the caveats in the documentation: https://pandas.pydata.org/pandas-docs/stable/user_guide/indexing.html#returning-a-view-versus-a-copy\n",
      "  price_history_all_products['date'] = pd.to_datetime(price_history_all_products['date'])\n"
     ]
    },
    {
     "data": {
      "text/plain": "<Figure size 1000x300 with 1 Axes>",
      "image/png": "[encoded data removed]"
     },
     "metadata": {},
     "output_type": "display_data"
    }
   ],
   "source": [
    "import seaborn as sns\n",
    "def plot_product_prices(price_history_all_products:pd.DataFrame) ->None:\n",
    "    # Set the figure size for better readability\n",
    "    plt.figure(figsize=(10, 3))\n",
    "\n",
    "    # Ensure 'date' is in the datetime format\n",
    "    price_history_all_products['date'] = pd.to_datetime(price_history_all_products['date'])\n",
    "\n",
    "    # Create a line plot with Seaborn, where each line represents a unique 'eanCode'\n",
    "    sns.scatterplot(data=price_history_all_products, x='date', y='unitPrice', hue='eanCode', markers=True)\n",
    "\n",
    "    # Enhance the plot with a title and labels\n",
    "    plt.title('Product Price History')\n",
    "    plt.xlabel('Date')\n",
    "    plt.ylabel('Unit Price')\n",
    "    plt.legend(title='EAN Code', bbox_to_anchor=(1.05, 1), loc='upper left')  # Place legend outside the plot\n",
    "\n",
    "    # Show the plot\n",
    "    plt.show()\n",
    "\n",
    "# plot_product_prices(price_history_all_products[price_history_all_products['eanCode'] == '6414893500167'])\n",
    "plot_product_prices(price_history_all_products[price_history_all_products['productName'] == 'Kevyt linja meetvursti 100 g'])"
   ],
   "metadata": {
    "collapsed": false,
    "ExecuteTime": {
     "end_time": "2024-06-14T16:55:40.620488800Z",
     "start_time": "2024-06-14T16:55:39.888246200Z"
    }
   },
   "id": "5d861ff97afd4412",
   "execution_count": 545
  },
  {
   "cell_type": "code",
   "outputs": [],
   "source": [
    "# price_history_all_products[price_history_all_products['productName'] == 'Kevyt linja meetvursti 100 g'].ffill().tail()"
   ],
   "metadata": {
    "collapsed": false,
    "ExecuteTime": {
     "end_time": "2024-06-14T16:55:40.623083800Z",
     "start_time": "2024-06-14T16:55:40.599080600Z"
    }
   },
   "id": "bc8da3956c2a463e",
   "execution_count": 546
  },
  {
   "cell_type": "markdown",
   "source": [
    "Save data as json"
   ],
   "metadata": {
    "collapsed": false
   },
   "id": "c54770d7d4614766"
  },
  {
   "cell_type": "code",
   "outputs": [
    {
     "data": {
      "text/plain": "quantile        date                                   Q_0_100  \\\n0         2019-01-04               [-22.6, 24.444444444444443]   \n1         2019-01-05               [-22.6, 24.444444444444443]   \n2         2019-01-06               [-22.6, 24.444444444444443]   \n3         2019-01-07               [-22.6, 24.444444444444443]   \n4         2019-01-08               [-22.6, 24.444444444444443]   \n...              ...                                       ...   \n1960      2024-05-17  [-11.555555555555555, 99.33333333333333]   \n1961      2024-05-18               [-11.688888888888888, 99.0]   \n1962      2024-05-19  [-11.822222222222223, 98.66666666666667]   \n1963      2024-05-20  [-11.955555555555556, 98.33333333333333]   \n1964      2024-05-21               [-12.088888888888889, 98.0]   \n\nquantile                                   Q_10_90  \\\n0         [-6.155555555555556, 2.7777777777777777]   \n1         [-6.155555555555556, 2.7777777777777777]   \n2         [-6.155555555555556, 2.7777777777777777]   \n3         [-6.155555555555556, 2.7777777777777777]   \n4         [-6.155555555555556, 2.7777777777777777]   \n...                                            ...   \n1960                     [0.0, 51.644444444444446]   \n1961                     [0.0, 51.666666666666664]   \n1962                      [0.0, 51.68888888888889]   \n1963                      [0.0, 51.71111111111111]   \n1964                     [0.0, 51.733333333333334]   \n\nquantile                     Q_25_75       Q_50  \n0         [0.0, 0.06666666666666667]   0.000000  \n1         [0.0, 0.06666666666666667]   0.000000  \n2         [0.0, 0.06666666666666667]   0.000000  \n3         [0.0, 0.06666666666666667]   0.000000  \n4         [0.0, 0.06666666666666667]   0.000000  \n...                              ...        ...  \n1960       [8.866666666666667, 38.0]  23.888889  \n1961        [8.88888888888889, 38.0]  23.822222  \n1962       [8.911111111111111, 38.0]  23.755556  \n1963       [8.933333333333334, 38.0]  23.688889  \n1964       [8.955555555555556, 38.0]  23.644444  \n\n[1965 rows x 5 columns]",
      "text/html": "<div>\n<style scoped>\n    .dataframe tbody tr th:only-of-type {\n        vertical-align: middle;\n    }\n\n    .dataframe tbody tr th {\n        vertical-align: top;\n    }\n\n    .dataframe thead th {\n        text-align: right;\n    }\n</style>\n<table border=\"1\" class=\"dataframe\">\n  <thead>\n    <tr style=\"text-align: right;\">\n      <th>quantile</th>\n      <th>date</th>\n      <th>Q_0_100</th>\n      <th>Q_10_90</th>\n      <th>Q_25_75</th>\n      <th>Q_50</th>\n    </tr>\n  </thead>\n  <tbody>\n    <tr>\n      <th>0</th>\n      <td>2019-01-04</td>\n      <td>[-22.6, 24.444444444444443]</td>\n      <td>[-6.155555555555556, 2.7777777777777777]</td>\n      <td>[0.0, 0.06666666666666667]</td>\n      <td>0.000000</td>\n    </tr>\n    <tr>\n      <th>1</th>\n      <td>2019-01-05</td>\n      <td>[-22.6, 24.444444444444443]</td>\n      <td>[-6.155555555555556, 2.7777777777777777]</td>\n      <td>[0.0, 0.06666666666666667]</td>\n      <td>0.000000</td>\n    </tr>\n    <tr>\n      <th>2</th>\n      <td>2019-01-06</td>\n      <td>[-22.6, 24.444444444444443]</td>\n      <td>[-6.155555555555556, 2.7777777777777777]</td>\n      <td>[0.0, 0.06666666666666667]</td>\n      <td>0.000000</td>\n    </tr>\n    <tr>\n      <th>3</th>\n      <td>2019-01-07</td>\n      <td>[-22.6, 24.444444444444443]</td>\n      <td>[-6.155555555555556, 2.7777777777777777]</td>\n      <td>[0.0, 0.06666666666666667]</td>\n      <td>0.000000</td>\n    </tr>\n    <tr>\n      <th>4</th>\n      <td>2019-01-08</td>\n      <td>[-22.6, 24.444444444444443]</td>\n      <td>[-6.155555555555556, 2.7777777777777777]</td>\n      <td>[0.0, 0.06666666666666667]</td>\n      <td>0.000000</td>\n    </tr>\n    <tr>\n      <th>...</th>\n      <td>...</td>\n      <td>...</td>\n      <td>...</td>\n      <td>...</td>\n      <td>...</td>\n    </tr>\n    <tr>\n      <th>1960</th>\n      <td>2024-05-17</td>\n      <td>[-11.555555555555555, 99.33333333333333]</td>\n      <td>[0.0, 51.644444444444446]</td>\n      <td>[8.866666666666667, 38.0]</td>\n      <td>23.888889</td>\n    </tr>\n    <tr>\n      <th>1961</th>\n      <td>2024-05-18</td>\n      <td>[-11.688888888888888, 99.0]</td>\n      <td>[0.0, 51.666666666666664]</td>\n      <td>[8.88888888888889, 38.0]</td>\n      <td>23.822222</td>\n    </tr>\n    <tr>\n      <th>1962</th>\n      <td>2024-05-19</td>\n      <td>[-11.822222222222223, 98.66666666666667]</td>\n      <td>[0.0, 51.68888888888889]</td>\n      <td>[8.911111111111111, 38.0]</td>\n      <td>23.755556</td>\n    </tr>\n    <tr>\n      <th>1963</th>\n      <td>2024-05-20</td>\n      <td>[-11.955555555555556, 98.33333333333333]</td>\n      <td>[0.0, 51.71111111111111]</td>\n      <td>[8.933333333333334, 38.0]</td>\n      <td>23.688889</td>\n    </tr>\n    <tr>\n      <th>1964</th>\n      <td>2024-05-21</td>\n      <td>[-12.088888888888889, 98.0]</td>\n      <td>[0.0, 51.733333333333334]</td>\n      <td>[8.955555555555556, 38.0]</td>\n      <td>23.644444</td>\n    </tr>\n  </tbody>\n</table>\n<p>1965 rows × 5 columns</p>\n</div>"
     },
     "execution_count": 547,
     "metadata": {},
     "output_type": "execute_result"
    }
   ],
   "source": [
    "price_history_quantiles"
   ],
   "metadata": {
    "collapsed": false,
    "ExecuteTime": {
     "end_time": "2024-06-14T16:55:40.827413400Z",
     "start_time": "2024-06-14T16:55:40.608479600Z"
    }
   },
   "id": "7c703c0a53347597",
   "execution_count": 547
  },
  {
   "cell_type": "code",
   "outputs": [],
   "source": [
    "# Save the list of dictionaries to a JSON file\n",
    "with open('../front/public/data/F_PriceHistory.json', 'w') as file:\n",
    "    json.dump(price_history_all_products.to_dict(orient='records'), file, indent=4)\n",
    "    \n",
    "with open('../front/public/data/F_ProductAggregates.json', 'w') as file:\n",
    "    json.dump(product_aggregates.to_dict(orient='records'), file, indent=4)\n",
    "    \n",
    "# Save product dimension to json file\n",
    "with open('../front/public/data/D_Product.json', 'w') as file:\n",
    "    json.dump(D_Product.to_dict(orient='records'), file, indent=4)\n",
    "    \n",
    "# Save price change quantiles to json file\n",
    "with open('../front/public/data/F_PriceHistoryQuantiles.json', 'w') as file:\n",
    "    json.dump(price_history_quantiles.to_dict(orient='records'), file, indent=4)\n",
    "     "
   ],
   "metadata": {
    "collapsed": false,
    "ExecuteTime": {
     "end_time": "2024-06-14T16:55:43.547818Z",
     "start_time": "2024-06-14T16:55:40.642005100Z"
    }
   },
   "id": "8f2088256bb98342",
   "execution_count": 548
  }
 ],
 "metadata": {
  "kernelspec": {
   "display_name": "Python 3",
   "language": "python",
   "name": "python3"
  },
  "language_info": {
   "codemirror_mode": {
    "name": "ipython",
    "version": 2
   },
   "file_extension": ".py",
   "mimetype": "text/x-python",
   "name": "python",
   "nbconvert_exporter": "python",
   "pygments_lexer": "ipython2",
   "version": "2.7.6"
  }
 },
 "nbformat": 4,
 "nbformat_minor": 5
}
